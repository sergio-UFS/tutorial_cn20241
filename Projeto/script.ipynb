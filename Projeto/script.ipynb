{
 "cells": [
  {
   "cell_type": "code",
   "execution_count": 13,
   "metadata": {},
   "outputs": [],
   "source": [
    "import pandas as pd\n",
    "import numpy as np\n",
    "import matplotlib.pyplot as plt\n",
    "from sklearn.model_selection import train_test_split"
   ]
  },
  {
   "cell_type": "code",
   "execution_count": 14,
   "metadata": {},
   "outputs": [
    {
     "name": "stdout",
     "output_type": "stream",
     "text": [
      "legitimate    9576\n",
      "phishing      8664\n",
      "Name: status, dtype: int64\n"
     ]
    },
    {
     "name": "stderr",
     "output_type": "stream",
     "text": [
      "C:\\Users\\sergi\\AppData\\Local\\Temp\\ipykernel_13316\\463298489.py:3: DtypeWarning: Columns (78) have mixed types. Specify dtype option on import or set low_memory=False.\n",
      "  df = pd.read_csv(input_path)\n"
     ]
    }
   ],
   "source": [
    "\n",
    "\n",
    "input_path = \"./dataset_link_phishing.csv\"\n",
    "\n",
    "df = pd.read_csv(input_path)\n",
    "\n",
    "selected_columns = [\"url\",\"url_length\",\"hostname_length\",\"ip\",\"total_of.\",\"total_of-\",\"total_of@\",\"total_of?\",\"total_of&\",\"https_token\", \"status\"]\n",
    "\n",
    "df_selected = df[selected_columns]\n",
    "df_selected = df_selected.dropna()\n",
    "df_selected = df_selected.drop_duplicates()\n",
    "\n",
    "labels = df_selected[\"status\"].unique()\n",
    "\n",
    "print(df_selected[\"status\"].value_counts())\n",
    "\n",
    "train_df, test_df = train_test_split(df_selected, train_size=0.7, random_state=42)\n",
    "\n",
    "train_output_path = \"./train.csv\"\n",
    "test_output_path = \"./test.csv\"\n",
    "    \n",
    "train_df.to_csv(train_output_path, index=False)\n",
    "test_df.to_csv(test_output_path, index=False)\n",
    "\n"
   ]
  }
 ],
 "metadata": {
  "kernelspec": {
   "display_name": "Python 3",
   "language": "python",
   "name": "python3"
  },
  "language_info": {
   "codemirror_mode": {
    "name": "ipython",
    "version": 3
   },
   "file_extension": ".py",
   "mimetype": "text/x-python",
   "name": "python",
   "nbconvert_exporter": "python",
   "pygments_lexer": "ipython3",
   "version": "3.10.9"
  }
 },
 "nbformat": 4,
 "nbformat_minor": 2
}
