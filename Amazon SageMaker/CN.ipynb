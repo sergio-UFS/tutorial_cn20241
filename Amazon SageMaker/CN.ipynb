{
 "cells": [
  {
   "cell_type": "code",
   "execution_count": null,
   "id": "15f4476e",
   "metadata": {},
   "outputs": [],
   "source": [
    "# preparar os dados\n",
    "# mover estes dados para um s3 bucket\n",
    "# criar o modelo\n",
    "# treinar o modelo\n",
    "# deploy do modelo"
   ]
  },
  {
   "cell_type": "code",
   "execution_count": 1,
   "id": "c6a6a2d4",
   "metadata": {},
   "outputs": [
    {
     "data": {
      "text/plain": [
       "('data.zip', <http.client.HTTPMessage at 0x7f64b020b190>)"
      ]
     },
     "execution_count": 1,
     "metadata": {},
     "output_type": "execute_result"
    }
   ],
   "source": [
    "import urllib.request\n",
    "urllib.request.urlretrieve('https://archive.ics.uci.edu/static/public/53/iris.zip',\n",
    "                          'data.zip')"
   ]
  },
  {
   "cell_type": "code",
   "execution_count": 2,
   "id": "388f6881",
   "metadata": {},
   "outputs": [
    {
     "name": "stdout",
     "output_type": "stream",
     "text": [
      "Archive:  data.zip\r\n",
      "  inflating: data/Index              \r\n",
      "  inflating: data/bezdekIris.data    \r\n",
      "  inflating: data/iris.data          \r\n",
      "  inflating: data/iris.names         \r\n"
     ]
    }
   ],
   "source": [
    "#preparando os dados\n",
    "!mkdir data\n",
    "!unzip data.zip -d data/"
   ]
  },
  {
   "cell_type": "code",
   "execution_count": 11,
   "id": "990aab7f",
   "metadata": {},
   "outputs": [
    {
     "name": "stderr",
     "output_type": "stream",
     "text": [
      "/tmp/ipykernel_9841/3906597362.py:11: FutureWarning: Downcasting behavior in `replace` is deprecated and will be removed in a future version. To retain the old behavior, explicitly call `result.infer_objects(copy=False)`. To opt-in to the future behavior, set `pd.set_option('future.no_silent_downcasting', True)`\n",
      "  data[4] = data[4].replace('Iris-versicolor', 2)\n"
     ]
    }
   ],
   "source": [
    "#passo a passo da preparação\n",
    "\n",
    "import pandas as pd\n",
    "\n",
    "#ler os dados\n",
    "data = pd.read_csv('data/iris.data', header=None)\n",
    "\n",
    "#converter para valores numericos\n",
    "data[4] = data[4].replace('Iris-setosa', 0)\n",
    "data[4] = data[4].replace('Iris-virginica', 1)\n",
    "data[4] = data[4].replace('Iris-versicolor', 2)\n",
    "\n",
    "#shuffle\n",
    "data = data.sample(frac=1).reset_index(drop=True)\n",
    "\n",
    "#modificar o rótulo da coluna de indice\n",
    "data = data[[4, 0, 1, 2, 3]] #definr a coluna de categorias como a primeira do dataset\n",
    "\n",
    "#dividir os dados em um conjunto de treinamento e um conjunto de validação\n",
    "#possui 150 instancias\n",
    "#80% será para treinamento e 20% para validação\n",
    "train_data = data[:120] #até o indice 120\n",
    "val_data = data[120:] #a partir do indice 120"
   ]
  },
  {
   "cell_type": "code",
   "execution_count": 13,
   "id": "96566c44",
   "metadata": {},
   "outputs": [],
   "source": [
    "#mover dados para o s3 bucket\n",
    "\n",
    "import boto3\n",
    "\n",
    "bucket_name = 'sagemaker-build-and-deploy-model-cn'\n",
    "\n",
    "train_data.to_csv('data.csv', header=False, index=False)\n",
    "key = 'data/train/data' #localização dos dados que serão salvos no s3 bucket\n",
    "url = 's3://{}/{}'.format(bucket_name, key)\n",
    "boto3.Session().resource('s3').Bucket(bucket_name).Object(key).upload_file('data.csv')\n",
    "\n",
    "val_data.to_csv('data.csv', header=False, index=False)\n",
    "key = 'data/val/data' #localização dos dados que serão salvos no s3 bucket\n",
    "url = 's3://{}/{}'.format(bucket_name, key)\n",
    "boto3.Session().resource('s3').Bucket(bucket_name).Object(key).upload_file('data.csv')"
   ]
  },
  {
   "cell_type": "code",
   "execution_count": 19,
   "id": "f4add9f0",
   "metadata": {},
   "outputs": [
    {
     "name": "stderr",
     "output_type": "stream",
     "text": [
      "WARNING:sagemaker.deprecations:The method get_image_uri has been renamed in sagemaker>=2.\n",
      "See: https://sagemaker.readthedocs.io/en/stable/v2.html for details.\n",
      "INFO:sagemaker.image_uris:Ignoring unnecessary instance type: None.\n",
      "WARNING:sagemaker.deprecations:train_instance_count has been renamed in sagemaker>=2.\n",
      "See: https://sagemaker.readthedocs.io/en/stable/v2.html for details.\n",
      "WARNING:sagemaker.deprecations:train_instance_type has been renamed in sagemaker>=2.\n",
      "See: https://sagemaker.readthedocs.io/en/stable/v2.html for details.\n",
      "WARNING:sagemaker.deprecations:train_volume_size has been renamed in sagemaker>=2.\n",
      "See: https://sagemaker.readthedocs.io/en/stable/v2.html for details.\n"
     ]
    }
   ],
   "source": [
    "#criar o modelo\n",
    "import scipy.sparse\n",
    "import sagemaker\n",
    "from sagemaker.amazon.amazon_estimator import get_image_uri\n",
    "from sagemaker import get_execution_role\n",
    "key = 'model/xgb_model'\n",
    "s3_output_location = url = 's3://{}/{}'.format(bucket_name, key)\n",
    "\n",
    "#o algoritmo que será utilizado é o xgboost\n",
    "#criação do objeto python que será utilizado para treinar o modelo\n",
    "xgb_model = sagemaker.estimator.Estimator(\n",
    "    get_image_uri(boto3.Session().region_name, 'xgboost'),\n",
    "    get_execution_role(),\n",
    "    train_instance_count=1,\n",
    "    train_instance_type='ml.m4.xlarge',\n",
    "    train_volume_size=5, #5 GB\n",
    "    output_path=s3_output_location,\n",
    "    sagemaker_session=sagemaker.Session()\n",
    ")\n",
    "\n",
    "xgb_model.set_hyperparameters(\n",
    "    max_depth=5,\n",
    "    eta=0.2,\n",
    "    gamma=4,\n",
    "    min_child_weight=6,\n",
    "    silent=0,\n",
    "    objective='multi:softmax',\n",
    "    num_class=3,\n",
    "    num_round=10 #quantas iterações serão feitas no treinamento\n",
    ")"
   ]
  },
  {
   "cell_type": "code",
   "execution_count": 20,
   "id": "1304c060",
   "metadata": {},
   "outputs": [
    {
     "name": "stderr",
     "output_type": "stream",
     "text": [
      "WARNING:sagemaker.deprecations:The class sagemaker.session.s3_input has been renamed in sagemaker>=2.\n",
      "See: https://sagemaker.readthedocs.io/en/stable/v2.html for details.\n",
      "WARNING:sagemaker.deprecations:The class sagemaker.session.s3_input has been renamed in sagemaker>=2.\n",
      "See: https://sagemaker.readthedocs.io/en/stable/v2.html for details.\n",
      "INFO:sagemaker:Creating training-job with name: xgboost-2024-08-29-02-18-20-354\n"
     ]
    },
    {
     "name": "stdout",
     "output_type": "stream",
     "text": [
      "2024-08-29 02:18:21 Starting - Starting the training job...\n",
      "2024-08-29 02:18:35 Starting - Preparing the instances for training...\n",
      "2024-08-29 02:19:09 Downloading - Downloading input data...\n",
      "2024-08-29 02:19:44 Downloading - Downloading the training image......\n",
      "2024-08-29 02:20:51 Training - Training image download completed. Training in progress.\n",
      "2024-08-29 02:20:51 Uploading - Uploading generated training model\u001b[34mArguments: train\u001b[0m\n",
      "\u001b[34m[2024-08-29:02:20:42:INFO] Running standalone xgboost training.\u001b[0m\n",
      "\u001b[34m[2024-08-29:02:20:42:INFO] File size need to be processed in the node: 0.0mb. Available memory size in the node: 8460.46mb\u001b[0m\n",
      "\u001b[34m[2024-08-29:02:20:42:INFO] Determined delimiter of CSV input is ','\u001b[0m\n",
      "\u001b[34m[02:20:42] S3DistributionType set as FullyReplicated\u001b[0m\n",
      "\u001b[34m[02:20:42] 120x4 matrix with 480 entries loaded from /opt/ml/input/data/train?format=csv&label_column=0&delimiter=,\u001b[0m\n",
      "\u001b[34m[2024-08-29:02:20:42:INFO] Determined delimiter of CSV input is ','\u001b[0m\n",
      "\u001b[34m[02:20:42] S3DistributionType set as FullyReplicated\u001b[0m\n",
      "\u001b[34m[02:20:42] 30x4 matrix with 120 entries loaded from /opt/ml/input/data/validation?format=csv&label_column=0&delimiter=,\u001b[0m\n",
      "\u001b[34m[02:20:42] src/tree/updater_prune.cc:74: tree pruning end, 1 roots, 2 extra nodes, 0 pruned nodes, max_depth=1\u001b[0m\n",
      "\u001b[34m[02:20:42] src/tree/updater_prune.cc:74: tree pruning end, 1 roots, 2 extra nodes, 2 pruned nodes, max_depth=1\u001b[0m\n",
      "\u001b[34m[02:20:42] src/tree/updater_prune.cc:74: tree pruning end, 1 roots, 4 extra nodes, 0 pruned nodes, max_depth=2\u001b[0m\n",
      "\u001b[34m[0]#011train-merror:0.025#011validation-merror:0.1\u001b[0m\n",
      "\u001b[34m[02:20:42] src/tree/updater_prune.cc:74: tree pruning end, 1 roots, 2 extra nodes, 0 pruned nodes, max_depth=1\u001b[0m\n",
      "\u001b[34m[02:20:42] src/tree/updater_prune.cc:74: tree pruning end, 1 roots, 2 extra nodes, 2 pruned nodes, max_depth=1\u001b[0m\n",
      "\u001b[34m[02:20:42] src/tree/updater_prune.cc:74: tree pruning end, 1 roots, 4 extra nodes, 0 pruned nodes, max_depth=2\u001b[0m\n",
      "\u001b[34m[1]#011train-merror:0.025#011validation-merror:0.1\u001b[0m\n",
      "\u001b[34m[02:20:42] src/tree/updater_prune.cc:74: tree pruning end, 1 roots, 2 extra nodes, 0 pruned nodes, max_depth=1\u001b[0m\n",
      "\u001b[34m[02:20:42] src/tree/updater_prune.cc:74: tree pruning end, 1 roots, 2 extra nodes, 2 pruned nodes, max_depth=1\u001b[0m\n",
      "\u001b[34m[02:20:42] src/tree/updater_prune.cc:74: tree pruning end, 1 roots, 4 extra nodes, 0 pruned nodes, max_depth=2\u001b[0m\n",
      "\u001b[34m[2]#011train-merror:0.025#011validation-merror:0.1\u001b[0m\n",
      "\u001b[34m[02:20:42] src/tree/updater_prune.cc:74: tree pruning end, 1 roots, 2 extra nodes, 0 pruned nodes, max_depth=1\u001b[0m\n",
      "\u001b[34m[02:20:42] src/tree/updater_prune.cc:74: tree pruning end, 1 roots, 2 extra nodes, 2 pruned nodes, max_depth=1\u001b[0m\n",
      "\u001b[34m[02:20:42] src/tree/updater_prune.cc:74: tree pruning end, 1 roots, 4 extra nodes, 0 pruned nodes, max_depth=2\u001b[0m\n",
      "\u001b[34m[3]#011train-merror:0.033333#011validation-merror:0.1\u001b[0m\n",
      "\u001b[34m[02:20:42] src/tree/updater_prune.cc:74: tree pruning end, 1 roots, 2 extra nodes, 0 pruned nodes, max_depth=1\u001b[0m\n",
      "\u001b[34m[02:20:42] src/tree/updater_prune.cc:74: tree pruning end, 1 roots, 2 extra nodes, 2 pruned nodes, max_depth=1\u001b[0m\n",
      "\u001b[34m[02:20:42] src/tree/updater_prune.cc:74: tree pruning end, 1 roots, 4 extra nodes, 2 pruned nodes, max_depth=2\u001b[0m\n",
      "\u001b[34m[4]#011train-merror:0.033333#011validation-merror:0.1\u001b[0m\n",
      "\u001b[34m[02:20:42] src/tree/updater_prune.cc:74: tree pruning end, 1 roots, 2 extra nodes, 0 pruned nodes, max_depth=1\u001b[0m\n",
      "\u001b[34m[02:20:42] src/tree/updater_prune.cc:74: tree pruning end, 1 roots, 2 extra nodes, 2 pruned nodes, max_depth=1\u001b[0m\n",
      "\u001b[34m[02:20:42] src/tree/updater_prune.cc:74: tree pruning end, 1 roots, 4 extra nodes, 2 pruned nodes, max_depth=2\u001b[0m\n",
      "\u001b[34m[5]#011train-merror:0.033333#011validation-merror:0.1\u001b[0m\n",
      "\u001b[34m[02:20:42] src/tree/updater_prune.cc:74: tree pruning end, 1 roots, 2 extra nodes, 0 pruned nodes, max_depth=1\u001b[0m\n",
      "\u001b[34m[02:20:42] src/tree/updater_prune.cc:74: tree pruning end, 1 roots, 2 extra nodes, 2 pruned nodes, max_depth=1\u001b[0m\n",
      "\u001b[34m[02:20:42] src/tree/updater_prune.cc:74: tree pruning end, 1 roots, 4 extra nodes, 2 pruned nodes, max_depth=2\u001b[0m\n",
      "\u001b[34m[6]#011train-merror:0.033333#011validation-merror:0.1\u001b[0m\n",
      "\u001b[34m[02:20:42] src/tree/updater_prune.cc:74: tree pruning end, 1 roots, 2 extra nodes, 0 pruned nodes, max_depth=1\u001b[0m\n",
      "\u001b[34m[02:20:42] src/tree/updater_prune.cc:74: tree pruning end, 1 roots, 2 extra nodes, 2 pruned nodes, max_depth=1\u001b[0m\n",
      "\u001b[34m[02:20:42] src/tree/updater_prune.cc:74: tree pruning end, 1 roots, 4 extra nodes, 2 pruned nodes, max_depth=2\u001b[0m\n",
      "\u001b[34m[7]#011train-merror:0.033333#011validation-merror:0.1\u001b[0m\n",
      "\u001b[34m[02:20:42] src/tree/updater_prune.cc:74: tree pruning end, 1 roots, 2 extra nodes, 0 pruned nodes, max_depth=1\u001b[0m\n",
      "\u001b[34m[02:20:42] src/tree/updater_prune.cc:74: tree pruning end, 1 roots, 2 extra nodes, 2 pruned nodes, max_depth=1\u001b[0m\n",
      "\u001b[34m[02:20:42] src/tree/updater_prune.cc:74: tree pruning end, 1 roots, 4 extra nodes, 2 pruned nodes, max_depth=2\u001b[0m\n",
      "\u001b[34m[8]#011train-merror:0.033333#011validation-merror:0.1\u001b[0m\n",
      "\u001b[34m[02:20:42] src/tree/updater_prune.cc:74: tree pruning end, 1 roots, 2 extra nodes, 0 pruned nodes, max_depth=1\u001b[0m\n",
      "\u001b[34m[02:20:42] src/tree/updater_prune.cc:74: tree pruning end, 1 roots, 2 extra nodes, 2 pruned nodes, max_depth=1\u001b[0m\n",
      "\u001b[34m[02:20:42] src/tree/updater_prune.cc:74: tree pruning end, 1 roots, 0 extra nodes, 4 pruned nodes, max_depth=0\u001b[0m\n",
      "\u001b[34m[9]#011train-merror:0.033333#011validation-merror:0.1\u001b[0m\n",
      "\n",
      "2024-08-29 02:20:59 Completed - Training job completed\n",
      "Training seconds: 109\n",
      "Billable seconds: 109\n"
     ]
    }
   ],
   "source": [
    "#treinar o modelo\n",
    "train_data = 's3://{}/{}'.format(bucket_name, 'data/train')\n",
    "val_data = 's3://{}/{}'.format(bucket_name, 'data/val')\n",
    "\n",
    "train_channel = sagemaker.session.s3_input(train_data, content_type='text/csv')\n",
    "val_channel = sagemaker.session.s3_input(val_data, content_type='text/csv')\n",
    "\n",
    "data_channels = {'train': train_channel, 'validation': val_channel}\n",
    "\n",
    "xgb_model.fit(inputs=data_channels)"
   ]
  },
  {
   "cell_type": "code",
   "execution_count": 21,
   "id": "d861e96f",
   "metadata": {},
   "outputs": [
    {
     "name": "stderr",
     "output_type": "stream",
     "text": [
      "INFO:sagemaker:Creating model with name: xgboost-2024-08-29-02-29-07-947\n",
      "INFO:sagemaker:Creating endpoint-config with name xgboost-2024-08-29-02-29-07-947\n",
      "INFO:sagemaker:Creating endpoint with name xgboost-2024-08-29-02-29-07-947\n"
     ]
    },
    {
     "name": "stdout",
     "output_type": "stream",
     "text": [
      "-------!"
     ]
    }
   ],
   "source": [
    "#fazer deploy do modelo\n",
    "\n",
    "xgb_predictor = xgb_model.deploy(initial_instance_count=1,instance_type='ml.m4.xlarge')"
   ]
  },
  {
   "cell_type": "code",
   "execution_count": null,
   "id": "40f09c20",
   "metadata": {},
   "outputs": [],
   "source": []
  }
 ],
 "metadata": {
  "kernelspec": {
   "display_name": "conda_python3",
   "language": "python",
   "name": "conda_python3"
  },
  "language_info": {
   "codemirror_mode": {
    "name": "ipython",
    "version": 3
   },
   "file_extension": ".py",
   "mimetype": "text/x-python",
   "name": "python",
   "nbconvert_exporter": "python",
   "pygments_lexer": "ipython3",
   "version": "3.10.14"
  }
 },
 "nbformat": 4,
 "nbformat_minor": 5
}
